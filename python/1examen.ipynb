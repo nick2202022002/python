{
 "cells": [
  {
   "cell_type": "code",
   "execution_count": null,
   "id": "fe75a2f7",
   "metadata": {},
   "outputs": [
    {
     "name": "stdout",
     "output_type": "stream",
     "text": [
      "impar\n"
     ]
    }
   ],
   "source": [
    "###EJERCICIOS EXAMEN##\n",
    "##1. Par o impar\n",
    "numero = int(input(\"Ingrese un numero\"))\n",
    "if numero%2 == 0:\n",
    "    print(\"par\")\n",
    "else\n",
    "    print(\"impar\")"
   ]
  },
  {
   "cell_type": "code",
   "execution_count": null,
   "id": "505e9f2b",
   "metadata": {},
   "outputs": [
    {
     "name": "stdout",
     "output_type": "stream",
     "text": [
      "El mayor numero es:  3\n"
     ]
    }
   ],
   "source": [
    "##2. Mayor de tres numeros\n",
    "a = int(input(\"ingrese el primer numero\"))\n",
    "b = int(input(\"ingrese el segundo numero\"))\n",
    "c = int(input(\"ingrese el tercer numero\"))\n",
    "print(\"El mayor numero es: \" , max(a,b,c))"
   ]
  },
  {
   "cell_type": "code",
   "execution_count": 9,
   "id": "8224b9a6",
   "metadata": {},
   "outputs": [
    {
     "name": "stdout",
     "output_type": "stream",
     "text": [
      "desaprobado\n"
     ]
    }
   ],
   "source": [
    "# 3. Aprobado o desaprobado\n",
    "nota = float(input(\"Ingresa tu nota\"))\n",
    "if nota >= 11:\n",
    "    print(\"aprobado\")\n",
    "else:\n",
    "    print(\"desaprobado\")"
   ]
  },
  {
   "cell_type": "code",
   "execution_count": null,
   "id": "d72632cc",
   "metadata": {},
   "outputs": [],
   "source": [
    "# 4. Imprimir del 1 al 10\n",
    "for i in range(1,11):\n",
    "    print(i)"
   ]
  },
  {
   "cell_type": "code",
   "execution_count": 16,
   "id": "90a60d87",
   "metadata": {},
   "outputs": [
    {
     "name": "stdout",
     "output_type": "stream",
     "text": [
      "21\n"
     ]
    }
   ],
   "source": [
    "# 5. Sumar elementos de una lista\n",
    "lista = [1,2,3,4,5,6]\n",
    "suma = sum(lista)\n",
    "print(suma)\n"
   ]
  },
  {
   "cell_type": "code",
   "execution_count": 26,
   "id": "1229dcb8",
   "metadata": {},
   "outputs": [
    {
     "name": "stdout",
     "output_type": "stream",
     "text": [
      "7 x 1 = 7\n",
      "7 x 2 = 14\n",
      "7 x 3 = 21\n",
      "7 x 4 = 28\n",
      "7 x 5 = 35\n",
      "7 x 6 = 42\n",
      "7 x 7 = 49\n",
      "7 x 8 = 56\n",
      "7 x 9 = 63\n",
      "7 x 10 = 70\n"
     ]
    }
   ],
   "source": [
    "# 6. Tabla de multiplicar del 7\n",
    "for i in range(1, 11):\n",
    "    print(f\"7 x {i} = {7 * i}\")"
   ]
  },
  {
   "cell_type": "code",
   "execution_count": 29,
   "id": "14331e77",
   "metadata": {},
   "outputs": [
    {
     "name": "stdout",
     "output_type": "stream",
     "text": [
      "1\n",
      "2\n",
      "3\n",
      "4\n",
      "5\n"
     ]
    }
   ],
   "source": [
    "# 7. Contar hasta 5\n",
    "n= 1\n",
    "while n<=5:\n",
    "    print(n)\n",
    "    n+=1"
   ]
  },
  {
   "cell_type": "code",
   "execution_count": 31,
   "id": "1a732b48",
   "metadata": {},
   "outputs": [
    {
     "name": "stdout",
     "output_type": "stream",
     "text": [
      "¡Correcto!\n"
     ]
    }
   ],
   "source": [
    "#8. Adivina el número\n",
    "import random\n",
    "secreto = random.randint(1, 10)\n",
    "intento = int(input(\"Adivina el número (1-10): \"))\n",
    "while intento != secreto:\n",
    "    intento = int(input(\"Incorrecto, intenta de nuevo: \"))\n",
    "print(\"¡Correcto!\")"
   ]
  },
  {
   "cell_type": "code",
   "execution_count": 32,
   "id": "ce9f38e1",
   "metadata": {},
   "outputs": [
    {
     "name": "stdout",
     "output_type": "stream",
     "text": [
      "Suma total: 0\n"
     ]
    }
   ],
   "source": [
    "# 9. Sumar hasta que se ingrese 0\n",
    "suma = 0\n",
    "num = int(input(\"Ingresa un número (0 para terminar): \"))\n",
    "while num != 0:\n",
    "    suma += num\n",
    "num = int(input(\"Ingresa otro número: \"))\n",
    "print(\"Suma total:\", suma)"
   ]
  },
  {
   "cell_type": "code",
   "execution_count": null,
   "id": "d34126ce",
   "metadata": {},
   "outputs": [],
   "source": [
    "# 10. Saludo personalizado\n",
    "nombre = input(\"Nombre: \")\n",
    "apellido = input(\"Apellido: \")\n",
    "print(\"Hola \" + nombre + \" \" + apellido + \"!\")"
   ]
  },
  {
   "cell_type": "code",
   "execution_count": null,
   "id": "222290a4",
   "metadata": {},
   "outputs": [],
   "source": [
    "# 11. Contador de palabras\n",
    "frase = input(\"Escribe una frase: \")\n",
    "print(\"Palabras:\", len(frase.split()))"
   ]
  },
  {
   "cell_type": "code",
   "execution_count": null,
   "id": "c1356959",
   "metadata": {},
   "outputs": [],
   "source": [
    "# 12. Invertir una cadena\n",
    "cadena = input(\"Escribe una palabra: \")\n",
    "invertida = \"\"\n",
    "for letra in cadena:\n",
    "    invertida = letra + invertida\n",
    "print(\"Invertida:\", invertida)"
   ]
  },
  {
   "cell_type": "code",
   "execution_count": null,
   "id": "3ccc5c9d",
   "metadata": {},
   "outputs": [],
   "source": [
    "# 13. Agregar elementos a una lista\n",
    "mi_lista = []\n",
    "for _ in range(3):\n",
    "    elem = input(\"Agrega un elemento: \")\n",
    "    mi_lista.append(elem)\n",
    "print(mi_lista)"
   ]
  },
  {
   "cell_type": "code",
   "execution_count": null,
   "id": "3858ce84",
   "metadata": {},
   "outputs": [],
   "source": [
    "# 14. Buscar elemento en lista\n",
    "busqueda = input(\"¿Qué quieres buscar?: \")\n",
    "if busqueda in mi_lista:\n",
    "    print(\"Está en la lista\")\n",
    "else:\n",
    "    print(\"No está en la lista\")"
   ]
  },
  {
   "cell_type": "code",
   "execution_count": null,
   "id": "5d6eecf7",
   "metadata": {},
   "outputs": [],
   "source": [
    "# 15. Eliminar duplicados\n",
    "lista_duplicada = [1, 2, 2, 3, 4, 4, 5]\n",
    "sin_duplicados = list(set(lista_duplicada))\n",
    "print(sin_duplicados)"
   ]
  },
  {
   "cell_type": "code",
   "execution_count": null,
   "id": "5d69b09c",
   "metadata": {},
   "outputs": [],
   "source": [
    "# 16. Tupla con datos personales\n",
    "datos = (\"Juan\", 25, \"Perú\")\n",
    "print(f\"Nombre: {datos[0]}, Edad: {datos[1]}, País: {datos[2]}\")"
   ]
  },
  {
   "cell_type": "code",
   "execution_count": null,
   "id": "cb970777",
   "metadata": {},
   "outputs": [],
   "source": [
    "# 17. Convertir tupla a lista y agregar elemento\n",
    "tupla = (1, 2, 3)\n",
    "lista = list(tupla)\n",
    "lista.append(4)\n",
    "tupla = tuple(lista)\n",
    "print(tupla)"
   ]
  },
  {
   "cell_type": "code",
   "execution_count": null,
   "id": "20778fad",
   "metadata": {},
   "outputs": [],
   "source": [
    "# 18. Agenda telefónica\n",
    "agenda = {\"Ana\": \"123456\", \"Luis\": \"789012\"}\n",
    "nombre = input(\"¿De quién quieres el número?: \")\n",
    "print(\"Número:\", agenda.get(nombre, \"No encontrado\"))"
   ]
  },
  {
   "cell_type": "code",
   "execution_count": null,
   "id": "7e1d1c65",
   "metadata": {},
   "outputs": [],
   "source": [
    "# 19. Contador de letras\n",
    "palabra = input(\"Escribe una palabra: \")\n",
    "contador = {}\n",
    "for letra in palabra:\n",
    "    contador[letra] = contador.get(letra, 0) + 1\n",
    "print(contador)"
   ]
  },
  {
   "cell_type": "code",
   "execution_count": null,
   "id": "75807bff",
   "metadata": {},
   "outputs": [],
   "source": [
    "# 20. Función suma\n",
    "def suma(a, b):\n",
    "    return a + b\n",
    "print(\"Suma:\", suma(4, 5))"
   ]
  },
  {
   "cell_type": "code",
   "execution_count": null,
   "id": "e2c7996b",
   "metadata": {},
   "outputs": [],
   "source": [
    "# 21. Función factorial\n",
    "def factorial(n):\n",
    "    if n == 0:\n",
    "        return 1\n",
    "    return n * factorial(n - 1)\n",
    "print(\"Factorial de 5:\", factorial(5))"
   ]
  },
  {
   "cell_type": "code",
   "execution_count": null,
   "id": "14b155b2",
   "metadata": {},
   "outputs": [],
   "source": [
    "# 22. Lista de cuadrados\n",
    "cuadrados = [x**2 for x in range(10)]\n",
    "print(\"Cuadrados:\", cuadrados)"
   ]
  },
  {
   "cell_type": "code",
   "execution_count": null,
   "id": "ead600e6",
   "metadata": {},
   "outputs": [],
   "source": [
    "# 23. Diccionario de cuadrados\n",
    "dicc_cuadrados = {x: x**2 for x in range(5)}\n",
    "print(dicc_cuadrados)"
   ]
  },
  {
   "cell_type": "code",
   "execution_count": null,
   "id": "2c513831",
   "metadata": {},
   "outputs": [],
   "source": [
    "# 24. Lista de números pares\n",
    "pares = [x for x in range(20) if x % 2 == 0]\n",
    "print(pares)"
   ]
  },
  {
   "cell_type": "code",
   "execution_count": null,
   "id": "1a0b7a09",
   "metadata": {},
   "outputs": [],
   "source": [
    "# 25. Contar vocales en una frase\n",
    "frase = input(\"Escribe una frase: \")\n",
    "vocales = \"aeiouAEIOU\"\n",
    "conteo = {v: frase.count(v) for v in vocales if v in frase}\n",
    "print(conteo)"
   ]
  },
  {
   "cell_type": "code",
   "execution_count": null,
   "id": "ba853398",
   "metadata": {},
   "outputs": [],
   "source": [
    "#26. Ejercicios de Listas\n",
    "#Ejercicio 1 Crear y acceder a una lista\n",
    "#python\n",
    "#CopiarEditar\n",
    "# Crea una lista con 5 nombres de estudiantes\n",
    "estudiantes = [\"Ana\", \"Luis\", \"Carlos\", \"Elena\", \"Mario\"]\n",
    "# Imprime el primer y el último estudiante\n",
    "print(estudiantes[0]) # Ana\n",
    "print(estudiantes[-1]) # Mario"
   ]
  },
  {
   "cell_type": "code",
   "execution_count": null,
   "id": "96e1cf65",
   "metadata": {},
   "outputs": [],
   "source": [
    "#Ejercicio 2: Añadir y eliminar elementos\n",
    "#python\n",
    "#CopiarEditar\n",
    "# Agrega un nuevo estudiante\n",
    "estudiantes.append(\"Lucía\")\n",
    "# Elimina a \"Carlos\" de la lista\n",
    "estudiantes.remove(\"Carlos\")\n",
    "# Muestra la lista final\n",
    "print(estudiantes)"
   ]
  },
  {
   "cell_type": "code",
   "execution_count": null,
   "id": "ace656ea",
   "metadata": {},
   "outputs": [
    {
     "name": "stdout",
     "output_type": "stream",
     "text": [
      "Edad: 30\n"
     ]
    }
   ],
   "source": [
    "#27. Ejercicios de Tuplas\n",
    "#python\n",
    "#CopiarEditar\n",
    "# Tupla con datos personales: nombre, edad, ciudad\n",
    "persona = (\"Juan\", 30, \"Lima\")\n",
    "# Accede a la edad\n",
    "print(\"Edad:\", persona[1])"
   ]
  },
  {
   "cell_type": "code",
   "execution_count": 36,
   "id": "2e49befd",
   "metadata": {},
   "outputs": [
    {
     "name": "stdout",
     "output_type": "stream",
     "text": [
      "Nombre: Juan\n",
      "Ciudad: Lima\n"
     ]
    }
   ],
   "source": [
    "#Ejercicio 2: Tuplas y desempaquetado\n",
    "#python\n",
    "#CopiarEditar\n",
    "# Desempaquetar una tupla\n",
    "nombre, edad, ciudad = persona\n",
    "print(f\"Nombre: {nombre}\")\n",
    "print(f\"Ciudad: {ciudad}\")"
   ]
  },
  {
   "cell_type": "code",
   "execution_count": 38,
   "id": "ff5f6670",
   "metadata": {},
   "outputs": [
    {
     "name": "stdout",
     "output_type": "stream",
     "text": [
      "Ana tiene 25 años.\n",
      "Luis tiene 28 años.\n",
      "Mario tiene 32 años.\n"
     ]
    }
   ],
   "source": [
    "#Ejercicio 3: Tuplas anidadas\n",
    "#python\n",
    "#CopiarEditar\n",
    "# Lista de personas usando tuplas\n",
    "personas = [(\"Ana\", 25), (\"Luis\", 28), (\"Mario\", 32)]\n",
    "for nombre, edad in personas:\n",
    "    print(f\"{nombre} tiene {edad} años.\")"
   ]
  },
  {
   "cell_type": "code",
   "execution_count": 39,
   "id": "0ba87a0e",
   "metadata": {},
   "outputs": [
    {
     "name": "stdout",
     "output_type": "stream",
     "text": [
      "Lucía\n",
      "Ingeniería\n"
     ]
    }
   ],
   "source": [
    "#28. Ejercicios de Diccionarios\n",
    "#Ejercicio 1: Crear y acceder a un diccionario\n",
    "#python\n",
    "#CopiarEditar\n",
    "# Diccionario de un estudiante\n",
    "estudiante = {\n",
    "    \"nombre\": \"Lucía\",\n",
    "    \"edad\": 22,\n",
    "    \"carrera\": \"Ingeniería\"\n",
    "}\n",
    "print(estudiante[\"nombre\"])\n",
    "print(estudiante.get(\"carrera\"))"
   ]
  },
  {
   "cell_type": "code",
   "execution_count": 40,
   "id": "6bb0efc5",
   "metadata": {},
   "outputs": [
    {
     "name": "stdout",
     "output_type": "stream",
     "text": [
      "{'nombre': 'Lucía', 'edad': 23, 'carrera': 'Ingeniería', 'nota_final': 18}\n"
     ]
    }
   ],
   "source": [
    "#Ejercicio 2: Modificar valores y agregar claves\n",
    "#python\n",
    "#CopiarEditar\n",
    "# Cambiar la edad\n",
    "estudiante[\"edad\"] = 23\n",
    "# Agregar clave \"nota final\"\n",
    "estudiante[\"nota_final\"] = 18\n",
    "print(estudiante)"
   ]
  },
  {
   "cell_type": "code",
   "execution_count": 41,
   "id": "0742a3c8",
   "metadata": {},
   "outputs": [
    {
     "name": "stdout",
     "output_type": "stream",
     "text": [
      "nombre: Lucía\n",
      "edad: 23\n",
      "carrera: Ingeniería\n",
      "nota_final: 18\n"
     ]
    }
   ],
   "source": [
    "#Ejercicio 3: Recorrer un diccionario\n",
    "#python\n",
    "#CopiarEditar\n",
    "for clave, valor in estudiante.items():\n",
    "    print(f\"{clave}: {valor}\")"
   ]
  },
  {
   "cell_type": "code",
   "execution_count": 42,
   "id": "3c59c028",
   "metadata": {},
   "outputs": [
    {
     "name": "stdout",
     "output_type": "stream",
     "text": [
      "Ana aprobó con 16\n",
      "Luis aprobó con 18\n"
     ]
    }
   ],
   "source": [
    "#Ejercicio integrador final: Lista de diccionarios\n",
    "#python\n",
    "#CopiarEditar\n",
    "# Lista de estudiantes con sus datos\n",
    "estudiantes = [\n",
    "{\"nombre\": \"Ana\", \"nota\": 16},\n",
    "{\"nombre\": \"Luis\", \"nota\": 18},\n",
    "{\"nombre\": \"Carlos\", \"nota\": 14}\n",
    "]\n",
    "# Mostrar solo los que aprobaron (nota >= 15)\n",
    "for e in estudiantes:\n",
    "    if e[\"nota\"] >= 15:\n",
    "        print(f\"{e['nombre']} aprobó con {e['nota']}\")"
   ]
  }
 ],
 "metadata": {
  "kernelspec": {
   "display_name": "Python 3",
   "language": "python",
   "name": "python3"
  },
  "language_info": {
   "codemirror_mode": {
    "name": "ipython",
    "version": 3
   },
   "file_extension": ".py",
   "mimetype": "text/x-python",
   "name": "python",
   "nbconvert_exporter": "python",
   "pygments_lexer": "ipython3",
   "version": "3.13.2"
  }
 },
 "nbformat": 4,
 "nbformat_minor": 5
}

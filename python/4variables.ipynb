{
 "cells": [
  {
   "cell_type": "code",
   "execution_count": null,
   "id": "923ca7ee",
   "metadata": {},
   "outputs": [
    {
     "name": "stdout",
     "output_type": "stream",
     "text": [
      "1\n"
     ]
    }
   ],
   "source": [
    "#Crear una variable que contenga un elemento del conjunto de números enteros y luego imprimir\n",
    "#por pantalla\n",
    "x = 1\n",
    "print(x)"
   ]
  },
  {
   "cell_type": "code",
   "execution_count": null,
   "id": "d42de534",
   "metadata": {},
   "outputs": [
    {
     "name": "stdout",
     "output_type": "stream",
     "text": [
      "<class 'float'>\n"
     ]
    }
   ],
   "source": [
    "#Imprimir el tipo de dato de la constante 8.5\n",
    "print(type(8.5))"
   ]
  },
  {
   "cell_type": "code",
   "execution_count": null,
   "id": "670e396d",
   "metadata": {},
   "outputs": [
    {
     "data": {
      "text/plain": [
       "int"
      ]
     },
     "execution_count": 3,
     "metadata": {},
     "output_type": "execute_result"
    }
   ],
   "source": [
    "#Imprimir el tipo de dato de la variable creada en el punto 1\n",
    "type(x)"
   ]
  },
  {
   "cell_type": "code",
   "execution_count": null,
   "id": "35d918e6",
   "metadata": {},
   "outputs": [],
   "source": [
    "nombre = \"Nick\""
   ]
  },
  {
   "cell_type": "code",
   "execution_count": null,
   "id": "07eea555",
   "metadata": {},
   "outputs": [
    {
     "data": {
      "text/plain": [
       "complex"
      ]
     },
     "execution_count": 4,
     "metadata": {},
     "output_type": "execute_result"
    }
   ],
   "source": [
    "#Crear una variable que contenga un número complejo\n",
    "n_complejo = 5 + 1j\n",
    "type(n_complejo)"
   ]
  },
  {
   "cell_type": "code",
   "execution_count": null,
   "id": "4d147d07",
   "metadata": {},
   "outputs": [
    {
     "data": {
      "text/plain": [
       "float"
      ]
     },
     "execution_count": 8,
     "metadata": {},
     "output_type": "execute_result"
    }
   ],
   "source": [
    "pi = 3.1416\n",
    "type(pi)"
   ]
  },
  {
   "cell_type": "code",
   "execution_count": 11,
   "id": "177618d5",
   "metadata": {},
   "outputs": [
    {
     "name": "stdout",
     "output_type": "stream",
     "text": [
      "<class 'float'>\n"
     ]
    }
   ],
   "source": [
    "a = 5 + 3.5\n",
    "print(type(a))"
   ]
  },
  {
   "cell_type": "code",
   "execution_count": null,
   "id": "5b21bba0",
   "metadata": {},
   "outputs": [
    {
     "name": "stdout",
     "output_type": "stream",
     "text": [
      "(6+10j)\n"
     ]
    }
   ],
   "source": [
    "#Realizar una operación de suma de números complejos\n",
    "n_complejo2 = 1 + 5j\n",
    "print(n_complejo + n_complejo2)"
   ]
  },
  {
   "cell_type": "code",
   "execution_count": 13,
   "id": "597be57a",
   "metadata": {},
   "outputs": [
    {
     "name": "stdout",
     "output_type": "stream",
     "text": [
      "(6+5j)\n"
     ]
    }
   ],
   "source": [
    "print(n_complejo + x)"
   ]
  },
  {
   "cell_type": "code",
   "execution_count": 14,
   "id": "d566375a",
   "metadata": {},
   "outputs": [
    {
     "name": "stdout",
     "output_type": "stream",
     "text": [
      "4\n",
      "8\n"
     ]
    }
   ],
   "source": [
    "#multiplicacion\n",
    "print(2*2)\n",
    "#potencia\n",
    "print(2**3)"
   ]
  },
  {
   "cell_type": "code",
   "execution_count": 16,
   "id": "b28484e2",
   "metadata": {},
   "outputs": [
    {
     "name": "stdout",
     "output_type": "stream",
     "text": [
      "7.5\n",
      "7\n"
     ]
    }
   ],
   "source": [
    "#division\n",
    "print(45/6)\n",
    "#division redondeada\n",
    "print(45//6)"
   ]
  },
  {
   "cell_type": "code",
   "execution_count": 19,
   "id": "3f944067",
   "metadata": {},
   "outputs": [
    {
     "data": {
      "text/plain": [
       "True"
      ]
     },
     "execution_count": 19,
     "metadata": {},
     "output_type": "execute_result"
    }
   ],
   "source": [
    "2 == int(\"2\")"
   ]
  },
  {
   "cell_type": "code",
   "execution_count": 24,
   "id": "5040c3e5",
   "metadata": {},
   "outputs": [
    {
     "name": "stdout",
     "output_type": "stream",
     "text": [
      "este texto se repite este texto se repite este texto se repite 3veces\n"
     ]
    }
   ],
   "source": [
    "var1= \"este texto se repite \"\n",
    "var2= 3\n",
    "print(var1 * 3 + str(var2) + \"veces\")"
   ]
  },
  {
   "cell_type": "code",
   "execution_count": null,
   "id": "971be5dd",
   "metadata": {},
   "outputs": [],
   "source": []
  }
 ],
 "metadata": {
  "kernelspec": {
   "display_name": "Python 3",
   "language": "python",
   "name": "python3"
  },
  "language_info": {
   "codemirror_mode": {
    "name": "ipython",
    "version": 3
   },
   "file_extension": ".py",
   "mimetype": "text/x-python",
   "name": "python",
   "nbconvert_exporter": "python",
   "pygments_lexer": "ipython3",
   "version": "3.13.2"
  }
 },
 "nbformat": 4,
 "nbformat_minor": 5
}

{
 "cells": [
  {
   "cell_type": "code",
   "execution_count": 3,
   "id": "16fd4ffa",
   "metadata": {},
   "outputs": [
    {
     "name": "stdout",
     "output_type": "stream",
     "text": [
      "a es mayor que b\n"
     ]
    }
   ],
   "source": [
    "#condicionales\n",
    "a=5\n",
    "b=4\n",
    "if a<b:\n",
    "    print(\"a es menor que b\")\n",
    "elif a>b:\n",
    "    print(\"a es mayor que b\")\n",
    "else:\n",
    "    print(\"a y b son iguales\")"
   ]
  },
  {
   "cell_type": "code",
   "execution_count": 6,
   "id": "f8007cc7",
   "metadata": {},
   "outputs": [
    {
     "name": "stdout",
     "output_type": "stream",
     "text": [
      "soy mayor\n"
     ]
    }
   ],
   "source": [
    "numero = 18\n",
    "if numero<=17:\n",
    "    print(\"soy menor\")\n",
    "else:\n",
    "    print(\"soy mayor\")"
   ]
  },
  {
   "cell_type": "code",
   "execution_count": null,
   "id": "1b8a445b",
   "metadata": {},
   "outputs": [],
   "source": [
    "#buque o loop \"For\"\n",
    "numeros = [1,2,3,4,5]\n",
    "for num in numeros:\n",
    "    if num == 4:\n",
    "        print(\"econtre el 4\")\n",
    "        break\n",
    "    print(num)"
   ]
  },
  {
   "cell_type": "code",
   "execution_count": null,
   "id": "bcfa5b11",
   "metadata": {},
   "outputs": [],
   "source": [
    "nombre = \"NickDilanLeivaPeña\"\n",
    "for letra in nombre:\n",
    "    if letra ==\"k\":\n",
    "        print(\"Encontre la K\")\n",
    "        break\n",
    "    print(letra)"
   ]
  },
  {
   "cell_type": "code",
   "execution_count": null,
   "id": "3bcd8b02",
   "metadata": {},
   "outputs": [],
   "source": [
    "x= 10\n",
    "while True:\n",
    "    x -= 1\n",
    "    print(x)\n",
    "    if x==0:\n",
    "        break\n",
    "print(\"fin del bucle\")"
   ]
  },
  {
   "cell_type": "code",
   "execution_count": 42,
   "id": "24f531cf",
   "metadata": {},
   "outputs": [
    {
     "name": "stdout",
     "output_type": "stream",
     "text": [
      "es mayor\n"
     ]
    }
   ],
   "source": [
    "#Crear una variable que contenga un elemento del conjunto de números enteros y luego\n",
    "#imprimir por pantalla si es mayor o menor a cero\n",
    "c= 10\n",
    "if c>0:\n",
    "    print(\"es mayor\")\n",
    "elif c<0:\n",
    "    print(\"es menor\")\n",
    "else:\n",
    "    print(\"es igual\")"
   ]
  },
  {
   "cell_type": "code",
   "execution_count": 44,
   "id": "2f23d403",
   "metadata": {},
   "outputs": [
    {
     "name": "stdout",
     "output_type": "stream",
     "text": [
      "no son iguales\n"
     ]
    }
   ],
   "source": [
    "#crea dos variables y un condicional que informe si son del mismo tipo de dato\n",
    "var1= 1\n",
    "var2= \"1\"\n",
    "if type(var1) == type(var2):\n",
    "    print(\"son iguales\")\n",
    "else:\n",
    "    print(\"no son iguales\")"
   ]
  },
  {
   "cell_type": "code",
   "execution_count": null,
   "id": "a42b080b",
   "metadata": {},
   "outputs": [],
   "source": [
    "#Para los valores enteros del 1 al 20, imprimir por pantalla si es par o impar\n",
    "for valor in range(1,20):\n",
    "    if valor %2 == 0:\n",
    "        print (str(valor) + \"es par\")\n",
    "    else:\n",
    "        print(str(valor) + \"es impar\")\n",
    "\n",
    "    "
   ]
  },
  {
   "cell_type": "code",
   "execution_count": 49,
   "id": "c6494b1d",
   "metadata": {},
   "outputs": [
    {
     "name": "stdout",
     "output_type": "stream",
     "text": [
      "1\n",
      "8\n",
      "27\n",
      "64\n",
      "125\n"
     ]
    }
   ],
   "source": [
    "listaa = [1,2,3,4,5]\n",
    "for num in listaa:\n",
    "    num = num**3\n",
    "    print(num)"
   ]
  }
 ],
 "metadata": {
  "kernelspec": {
   "display_name": "Python 3",
   "language": "python",
   "name": "python3"
  },
  "language_info": {
   "codemirror_mode": {
    "name": "ipython",
    "version": 3
   },
   "file_extension": ".py",
   "mimetype": "text/x-python",
   "name": "python",
   "nbconvert_exporter": "python",
   "pygments_lexer": "ipython3",
   "version": "3.13.2"
  }
 },
 "nbformat": 4,
 "nbformat_minor": 5
}
